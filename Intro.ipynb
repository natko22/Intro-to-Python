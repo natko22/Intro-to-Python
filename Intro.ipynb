{
 "cells": [
  {
   "cell_type": "code",
   "execution_count": 2,
   "metadata": {},
   "outputs": [],
   "source": [
    "math_score = 27\n",
    "eng_score = 14.5\n",
    "Eng_score = 50.3\n",
    "total_score= math_score + eng_score\n",
    "student_name = \"Vincent Millard\""
   ]
  },
  {
   "cell_type": "code",
   "execution_count": 3,
   "metadata": {},
   "outputs": [
    {
     "name": "stdout",
     "output_type": "stream",
     "text": [
      "41.5\n"
     ]
    }
   ],
   "source": [
    "print(total_score)\n"
   ]
  },
  {
   "cell_type": "code",
   "execution_count": 4,
   "metadata": {},
   "outputs": [
    {
     "name": "stdout",
     "output_type": "stream",
     "text": [
      "<class 'int'>\n"
     ]
    }
   ],
   "source": [
    "print(type(math_score))"
   ]
  },
  {
   "cell_type": "code",
   "execution_count": 5,
   "metadata": {},
   "outputs": [
    {
     "name": "stdout",
     "output_type": "stream",
     "text": [
      "<class 'float'>\n"
     ]
    }
   ],
   "source": [
    "print(type(eng_score))"
   ]
  },
  {
   "cell_type": "code",
   "execution_count": 8,
   "metadata": {},
   "outputs": [
    {
     "name": "stdout",
     "output_type": "stream",
     "text": [
      "<class 'str'>\n"
     ]
    }
   ],
   "source": [
    "print(type(student_name))"
   ]
  },
  {
   "cell_type": "markdown",
   "metadata": {},
   "source": [
    "input function - allows the user to input values and answer questions\n"
   ]
  },
  {
   "cell_type": "code",
   "execution_count": 9,
   "metadata": {},
   "outputs": [],
   "source": [
    "user_name = input(\"What is your name?\")"
   ]
  },
  {
   "cell_type": "code",
   "execution_count": 10,
   "metadata": {},
   "outputs": [
    {
     "name": "stdout",
     "output_type": "stream",
     "text": [
      "Alexandra\n"
     ]
    }
   ],
   "source": [
    "print(user_name)"
   ]
  },
  {
   "cell_type": "code",
   "execution_count": 11,
   "metadata": {},
   "outputs": [],
   "source": [
    "def greeting():\n",
    "    print(\"Hello \" + user_name + \"!\")"
   ]
  },
  {
   "cell_type": "code",
   "execution_count": 12,
   "metadata": {},
   "outputs": [
    {
     "name": "stdout",
     "output_type": "stream",
     "text": [
      "Hello Alexandra!\n"
     ]
    }
   ],
   "source": [
    "greeting()"
   ]
  },
  {
   "cell_type": "markdown",
   "metadata": {},
   "source": [
    "Conditional statements\n"
   ]
  },
  {
   "cell_type": "code",
   "execution_count": 17,
   "metadata": {},
   "outputs": [
    {
     "name": "stdout",
     "output_type": "stream",
     "text": [
      "Your brother is older than your sister.\n"
     ]
    }
   ],
   "source": [
    "a = input(\"How old is your sister?\")\n",
    "b = input(\"How old is your brother?\")\n",
    "\n",
    "if a > b:\n",
    "    print(\"Your sister is older than your brother.\")\n",
    "elif a < b:\n",
    "    print(\"Your brother is older than your sister.\")    \n",
    "else: \n",
    "    print(\"Your sister and your brother are twins.\")  \n",
    "    \n",
    "    #Indetation means the empty spaces in the beggining of a codeline.\n",
    "    #Indetation shows which codeline is dominent and which codeline belongs to the previous codeline.\n",
    "    #if a>b:                          -this line is dominent.\n",
    "    #print(\"your sister is older\")    -this line belongs to the previous one.\n"
   ]
  },
  {
   "cell_type": "markdown",
   "metadata": {},
   "source": [
    "BMI Calculator\n",
    "\n",
    "BMI           Nutritional status\n",
    "\n",
    "Below 18.5    Underweight\n",
    "\n",
    "18.5–24.9     Normal weight\n",
    "\n",
    "25.0–29.9     Pre-obesity\n",
    "\n",
    "30.0–34.9     Obesity class I\n",
    "\n",
    "35.0–39.9     Obesity class II\n",
    "\n",
    "Above 40      Obesity class III\n",
    "\n",
    "\n",
    "\n",
    "\n",
    "\n",
    "\n",
    "\n",
    "\n",
    "\n",
    "\n"
   ]
  },
  {
   "cell_type": "code",
   "execution_count": 21,
   "metadata": {},
   "outputs": [
    {
     "name": "stdout",
     "output_type": "stream",
     "text": [
      "Your bmi is: 31\n"
     ]
    }
   ],
   "source": [
    "weight = int ( input(\"What is your weight in kilogramms?\"))\n",
    "height = float ( input(\"What is your height in metres?\"))\n",
    "bmi = weight / height **2 \n",
    "bmi = int(bmi)\n",
    "print(\"Your bmi is:\", bmi)"
   ]
  },
  {
   "cell_type": "code",
   "execution_count": 25,
   "metadata": {},
   "outputs": [
    {
     "name": "stdout",
     "output_type": "stream",
     "text": [
      "Your bmi is: 31.2\n",
      "You are in Obecity Class |\n"
     ]
    }
   ],
   "source": [
    "weight = int ( input(\"What is your weight in kilogramms?\"))\n",
    "height = float ( input(\"What is your height in metres?\"))\n",
    "bmi = weight / height **2 \n",
    "bmi = round(bmi, 1)\n",
    "print(\"Your bmi is:\", bmi)\n",
    "\n",
    "if bmi < 18.5:\n",
    "    print(\"You are Underweight\")\n",
    "elif bmi >= 18.5 and bmi < 24.9:\n",
    "    print(\"You have a normal weight\")\n",
    "elif bmi >= 25.0 and bmi < 29.9:\n",
    "    print(\"You are in Pre-obecity\")\n",
    "elif bmi >= 30.0 and bmi < 34.9:\n",
    "    print(\"You are in Obecity Class |\")\n",
    "elif bmi >= 35.0 and bmi < 39.9:\n",
    "    print(\"You are in Obecity Class ||\")\n",
    "elif bmi > 40:\n",
    "    print(\"You are in Obecity Class |||\")"
   ]
  },
  {
   "cell_type": "markdown",
   "metadata": {},
   "source": [
    "PYTHON'S LISTS\n"
   ]
  },
  {
   "cell_type": "code",
   "execution_count": 71,
   "metadata": {},
   "outputs": [],
   "source": [
    "fruits = [ ]"
   ]
  },
  {
   "cell_type": "code",
   "execution_count": 81,
   "metadata": {},
   "outputs": [
    {
     "name": "stdout",
     "output_type": "stream",
     "text": [
      "['apple', 'ananas', 'banana', 'cherry', 'papaya']\n"
     ]
    }
   ],
   "source": [
    "print(fruits)"
   ]
  },
  {
   "cell_type": "code",
   "execution_count": 75,
   "metadata": {},
   "outputs": [],
   "source": [
    "fruits.append(\"apple\")"
   ]
  },
  {
   "cell_type": "code",
   "execution_count": 76,
   "metadata": {},
   "outputs": [],
   "source": [
    "fruits.append(\"cherry\")"
   ]
  },
  {
   "cell_type": "code",
   "execution_count": 77,
   "metadata": {},
   "outputs": [],
   "source": [
    "fruits.insert(1, \"banana\")"
   ]
  },
  {
   "cell_type": "code",
   "execution_count": 78,
   "metadata": {},
   "outputs": [],
   "source": [
    "fruits.insert(3,\"papaya\")"
   ]
  },
  {
   "cell_type": "code",
   "execution_count": 79,
   "metadata": {},
   "outputs": [],
   "source": [
    "fruits.insert(1,\"ananas\")"
   ]
  },
  {
   "cell_type": "code",
   "execution_count": 80,
   "metadata": {},
   "outputs": [
    {
     "name": "stdout",
     "output_type": "stream",
     "text": [
      "cherry\n"
     ]
    }
   ],
   "source": [
    "print(fruits[3])"
   ]
  },
  {
   "cell_type": "code",
   "execution_count": 41,
   "metadata": {},
   "outputs": [
    {
     "name": "stdout",
     "output_type": "stream",
     "text": [
      "ananas\n"
     ]
    }
   ],
   "source": [
    "print(fruits[1])"
   ]
  },
  {
   "cell_type": "markdown",
   "metadata": {},
   "source": [
    "negative indexing with minus sign it counts backwards"
   ]
  },
  {
   "cell_type": "code",
   "execution_count": 42,
   "metadata": {},
   "outputs": [
    {
     "name": "stdout",
     "output_type": "stream",
     "text": [
      "banana\n"
     ]
    }
   ],
   "source": [
    "print(fruits[-1])"
   ]
  }
 ],
 "metadata": {
  "kernelspec": {
   "display_name": "Python 3.10.8 64-bit",
   "language": "python",
   "name": "python3"
  },
  "language_info": {
   "codemirror_mode": {
    "name": "ipython",
    "version": 3
   },
   "file_extension": ".py",
   "mimetype": "text/x-python",
   "name": "python",
   "nbconvert_exporter": "python",
   "pygments_lexer": "ipython3",
   "version": "3.10.8"
  },
  "orig_nbformat": 4,
  "vscode": {
   "interpreter": {
    "hash": "26de051ba29f2982a8de78e945f0abaf191376122a1563185a90213a26c5da77"
   }
  }
 },
 "nbformat": 4,
 "nbformat_minor": 2
}
